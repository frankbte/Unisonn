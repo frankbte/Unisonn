{
 "cells": [
  {
   "cell_type": "code",
   "execution_count": 1,
   "id": "d1830c27-4902-42cb-95dd-fb432fde47e8",
   "metadata": {},
   "outputs": [],
   "source": [
    "from abc import ABC, abstractmethod\n",
    "\n",
    "class SearchProblem(ABC):\n",
    "    @abstractmethod\n",
    "    def state_test(self, value):\n",
    "        \"\"\"\n",
    "        Tests if the given value is a state\n",
    "        \"\"\"\n",
    "        ...\n",
    "    @abstractmethod\n",
    "    def action_test(self, value):\n",
    "        \"\"\"\n",
    "        Tests if the given value is an action\n",
    "        \"\"\"\n",
    "        ...\n",
    "    @abstractmethod\n",
    "    def initial_state(self):\n",
    "        \"\"\"\n",
    "        Return the initial state\n",
    "        \"\"\"\n",
    "        ...\n",
    "\n",
    "    @abstractmethod\n",
    "    def goal_test(self, state):\n",
    "        \"\"\"\n",
    "        Test if the given state is final\n",
    "        \"\"\"\n",
    "        ...\n",
    "\n",
    "    @abstractmethod\n",
    "    def actions(self, state):\n",
    "        \"\"\"\n",
    "        Returns the actions that can be performed in the given state\n",
    "        \"\"\"\n",
    "        ...\n",
    "\n",
    "    @abstractmethod\n",
    "    def state_from(self, state, action):\n",
    "        \"\"\"\n",
    "        Returns the state that results from performing the given action in the given state\n",
    "        \"\"\"\n",
    "        ...\n",
    "\n",
    "    @abstractmethod\n",
    "    def cost_from(self, state, action):\n",
    "        \"\"\"\n",
    "        Returns the cost that results from performing the given action in the given state\n",
    "        \"\"\"\n",
    "        ...\n",
    "        \n",
    "    def path_cost(self, accumulated, state1, action, state2):\n",
    "        \"\"\"\n",
    "        Returns the accumulated cost throught the actions \n",
    "        \"\"\"\n",
    "        raise NotImplementedError\n",
    "\n",
    "    def state_value(self, state):\n",
    "        raise NotImplementedError\n",
    "        "
   ]
  },
  {
   "cell_type": "code",
   "execution_count": 2,
   "id": "f9a9baed-f5fb-4042-9940-0525f8adaed4",
   "metadata": {},
   "outputs": [],
   "source": [
    "class MagicBusProblem(SearchProblem):\n",
    "    def __init__(self, n):\n",
    "        assert isinstance(n, int)\n",
    "        assert n >= 1\n",
    "        self.n = n\n",
    "\n",
    "    def state_test(self, value):\n",
    "        return 1 <= value <= self.n\n",
    "\n",
    "    def state_test(self, value):\n",
    "        \"\"\"\n",
    "        Tests if the given value is a state\n",
    "        \"\"\"\n",
    "        return (\n",
    "            isinstance(value, int) and \n",
    "            1 <= value <= self.n\n",
    "        )\n",
    "    \n",
    "    def action_test(self, value):\n",
    "        \"\"\"\n",
    "        Tests if the given value is an action\n",
    "        \"\"\"\n",
    "        return value in ['walk', 'ride']\n",
    "    \n",
    "    def initial_state(self):\n",
    "        \"\"\"\n",
    "        Return the initial state\n",
    "        \"\"\"\n",
    "        return 1\n",
    "\n",
    "    \n",
    "    def goal_test(self, state):\n",
    "        \"\"\"\n",
    "        Test if the given state is final\n",
    "        \"\"\"\n",
    "        return state == self.n\n",
    "\n",
    "    \n",
    "    def actions(self, state):\n",
    "        \"\"\"\n",
    "        Returns the actions that can be performed in the given state\n",
    "        \"\"\"\n",
    "        a = []\n",
    "        if state < self.n:\n",
    "            a.append('walk')\n",
    "        if state*2 <= self.n:\n",
    "            a.append('ride')\n",
    "            \n",
    "        return a\n",
    "\n",
    "    \n",
    "    def state_from(self, state, action):\n",
    "        \"\"\"\n",
    "        Returns the state that results from performing the given action in the given state\n",
    "        \"\"\"\n",
    "\n",
    "        if action == \"walk\":\n",
    "            return state + 1\n",
    "        if action == 'ride':\n",
    "            return 2*state\n",
    "\n",
    "    \n",
    "    def cost_from(self, state, action):\n",
    "        \"\"\"\n",
    "        Returns the cost that results from performing the given action in the given state\n",
    "        \"\"\"\n",
    "        if action == \"walk\":\n",
    "            return 1\n",
    "        if action == 'ride':\n",
    "            return 2\n",
    "    \n",
    "    #Por implementar...."
   ]
  },
  {
   "cell_type": "code",
   "execution_count": 3,
   "id": "29570eb3-d3bd-4608-a402-9fd493bf0e95",
   "metadata": {},
   "outputs": [
    {
     "data": {
      "text/plain": [
       "<__main__.MagicBusProblem at 0x2b45ee55040>"
      ]
     },
     "execution_count": 3,
     "metadata": {},
     "output_type": "execute_result"
    }
   ],
   "source": [
    "p = MagicBusProblem(7)\n",
    "p"
   ]
  },
  {
   "cell_type": "code",
   "execution_count": 4,
   "id": "36a1fe60-d94f-4bd9-b4d9-92a5264f7970",
   "metadata": {},
   "outputs": [
    {
     "data": {
      "text/plain": [
       "True"
      ]
     },
     "execution_count": 4,
     "metadata": {},
     "output_type": "execute_result"
    }
   ],
   "source": [
    "p.state_test(7)"
   ]
  },
  {
   "cell_type": "code",
   "execution_count": 5,
   "id": "75d1d1c8-961b-444d-bfde-10997396e4dd",
   "metadata": {},
   "outputs": [
    {
     "data": {
      "text/plain": [
       "1"
      ]
     },
     "execution_count": 5,
     "metadata": {},
     "output_type": "execute_result"
    }
   ],
   "source": [
    "p.initial_state()"
   ]
  },
  {
   "cell_type": "code",
   "execution_count": 6,
   "id": "0c7f8479-1eef-4fdd-82f1-7c6229852c4f",
   "metadata": {},
   "outputs": [
    {
     "data": {
      "text/plain": [
       "False"
      ]
     },
     "execution_count": 6,
     "metadata": {},
     "output_type": "execute_result"
    }
   ],
   "source": [
    "p.goal_test(p.initial_state())"
   ]
  },
  {
   "cell_type": "code",
   "execution_count": 7,
   "id": "c9cc707e-248b-4c24-b5b8-b486c3d47322",
   "metadata": {},
   "outputs": [
    {
     "data": {
      "text/plain": [
       "['walk', 'ride']"
      ]
     },
     "execution_count": 7,
     "metadata": {},
     "output_type": "execute_result"
    }
   ],
   "source": [
    "p.actions(3)"
   ]
  },
  {
   "cell_type": "code",
   "execution_count": 8,
   "id": "a8d36827-db90-4c2c-8e0f-267c9051c658",
   "metadata": {},
   "outputs": [
    {
     "data": {
      "text/plain": [
       "4"
      ]
     },
     "execution_count": 8,
     "metadata": {},
     "output_type": "execute_result"
    }
   ],
   "source": [
    "p.state_from(2,\"ride\")"
   ]
  },
  {
   "cell_type": "code",
   "execution_count": 9,
   "id": "b9b7fad8-55cd-4d6b-b51d-55889e3f00e2",
   "metadata": {},
   "outputs": [],
   "source": [
    "class SearchNode:\n",
    "    def __init__(self, state, parent=None, action=None, cost = 0):\n",
    "        self.state = state\n",
    "        self.parent = parent\n",
    "        self.action = action\n",
    "        self.cost = cost\n",
    "        self.depth = 0 if parent is None else parent.depth + 1\n",
    "\n",
    "    def expand(self, problem):\n",
    "        def child_node(action):\n",
    "            next_state = problem.state_from(self.state, action)\n",
    "            next_cost = problem.path_cost(\n",
    "                self.cost, \n",
    "                self.state, \n",
    "                action,\n",
    "                next_state)\n",
    "            return SearchNode(\n",
    "                next_state,\n",
    "                self,\n",
    "                action,\n",
    "                next_cost\n",
    "            )\n",
    "        return [child_node(action)\n",
    "               for action \n",
    "               in problem.action(self.state)]\n",
    "\n",
    "    def path(self):\n",
    "        node = self\n",
    "        trace = []\n",
    "        while node is not None:\n",
    "            trace.append(node)\n",
    "            node = node.parent\n",
    "        trace.reverse()\n",
    "        return trace\n",
    "\n",
    "    def actions(self):\n",
    "        trace = self.path()\n",
    "        return [node.action for node in self.path()]\n",
    "            "
   ]
  },
  {
   "cell_type": "code",
   "execution_count": null,
   "id": "2af3d97a-fac4-4cb8-a0c8-b1b22010cbbd",
   "metadata": {},
   "outputs": [],
   "source": []
  },
  {
   "cell_type": "code",
   "execution_count": null,
   "id": "23c12a8e",
   "metadata": {},
   "outputs": [],
   "source": []
  }
 ],
 "metadata": {
  "kernelspec": {
   "display_name": "Python 3 (ipykernel)",
   "language": "python",
   "name": "python3"
  },
  "language_info": {
   "codemirror_mode": {
    "name": "ipython",
    "version": 3
   },
   "file_extension": ".py",
   "mimetype": "text/x-python",
   "name": "python",
   "nbconvert_exporter": "python",
   "pygments_lexer": "ipython3",
   "version": "3.12.2"
  }
 },
 "nbformat": 4,
 "nbformat_minor": 5
}
