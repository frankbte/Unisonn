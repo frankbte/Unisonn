{
 "cells": [
  {
   "cell_type": "markdown",
   "id": "81c5555b-16f9-4108-a613-c488dca0b268",
   "metadata": {},
   "source": [
    "En esta libreta implementaremos redes neuronales alimentadas hacia adelante con algunas funciones de activación.\n",
    "\n",
    "Utilizamos la biblioteca NumPy para realizar cálculos eficientes con arreglos multidimensionales (vectores, matrices, etc)."
   ]
  },
  {
   "cell_type": "code",
   "execution_count": null,
   "id": "6a62394a-5eea-425b-8611-2e7d2b810cd9",
   "metadata": {},
   "outputs": [],
   "source": [
    "import numpy as np"
   ]
  },
  {
   "cell_type": "markdown",
   "id": "9fe87c6d-156d-4cc4-98d8-7cd7f533d693",
   "metadata": {},
   "source": [
    "Consideramos el problema que discutimos en clases, donde cada entrada $x$ consiste de dos componentes reales."
   ]
  },
  {
   "cell_type": "markdown",
   "id": "4d06f380-ce4c-4cc1-a63a-0deabb4d132a",
   "metadata": {},
   "source": [
    "Estos son los datos de entrenamiento, vamos a considerar una entrada como un vector columna, por lo que las entradas de ejemplo serán una matriz de dos por cinco."
   ]
  },
  {
   "cell_type": "code",
   "execution_count": null,
   "id": "d60f407d-c1ca-4ef9-9ea0-a81b0b92efa1",
   "metadata": {},
   "outputs": [],
   "source": [
    "inputs = np.array([[0, 2, 0, 2], [2, 0, 0, 2]])\n",
    "outputs = np.array([+1, +1, -1, -1])"
   ]
  },
  {
   "cell_type": "code",
   "execution_count": null,
   "id": "8fc6e5de-406b-4fe9-80d1-9c3533d0fbd8",
   "metadata": {},
   "outputs": [],
   "source": [
    "print(f\"  x     y\")\n",
    "print(\"----------\")\n",
    "for x, y in zip(inputs.T, outputs):\n",
    "    print(x, f\" {y:+g}\")"
   ]
  },
  {
   "cell_type": "markdown",
   "id": "bab9243c-2abb-407a-b595-c6a7f8b0000f",
   "metadata": {},
   "source": [
    "El extractor de características agrega un valor unitario."
   ]
  },
  {
   "cell_type": "code",
   "execution_count": null,
   "id": "d33a3748-5215-4d7b-8d0d-f725b7077109",
   "metadata": {},
   "outputs": [],
   "source": [
    "def features(x):\n",
    "    ones = np.ones(x.shape[1:])\n",
    "    ones = ones.reshape((1,)+ones.shape)\n",
    "    return np.vstack([ones, x])"
   ]
  },
  {
   "cell_type": "markdown",
   "id": "d6ccd374-80a7-47c7-acda-74e0b4dadfe4",
   "metadata": {},
   "source": [
    "La función `X` toma un índice `i` y regresa el `i`-ésimo vector columna de entrada"
   ]
  },
  {
   "cell_type": "code",
   "execution_count": null,
   "id": "0a4bded2-f4ac-49c9-9df0-308a54d956c5",
   "metadata": {},
   "outputs": [],
   "source": [
    "def X(i):\n",
    "    return inputs[:,i:i+1]"
   ]
  },
  {
   "cell_type": "markdown",
   "id": "74f678c3-77a9-46e3-846d-0659537c010e",
   "metadata": {},
   "source": [
    "El problema se resuelve en dos etapas, primero se divide en dos subproblemas y luego las soluciones a estos son combinadas. Para ilustrar los cálculos, consideramos el primer ejemplo."
   ]
  },
  {
   "cell_type": "code",
   "execution_count": null,
   "id": "9447d2ec-711b-4402-b312-80fd744d32eb",
   "metadata": {},
   "outputs": [],
   "source": [
    "fvec = features(X(0))\n",
    "y = outputs[0]"
   ]
  },
  {
   "cell_type": "markdown",
   "id": "bccc726d-971a-4039-a25e-210182166ec8",
   "metadata": {},
   "source": [
    "En la primera etapa, consideramos la siguiente matriz de pesos, la cuál es multiplicada por el vector de características y posteriormente el resultado es evaluado por la función de paso."
   ]
  },
  {
   "cell_type": "code",
   "execution_count": null,
   "id": "82e24fce-18b1-487c-a872-93819fda10c7",
   "metadata": {},
   "outputs": [],
   "source": [
    "V = np.array([[-1, +1, -1],\n",
    "              [-1, -1, +1]])"
   ]
  },
  {
   "cell_type": "code",
   "execution_count": null,
   "id": "077a58f9-06e4-4fcf-960c-9f21239b0d4a",
   "metadata": {},
   "outputs": [],
   "source": [
    "def threshold(z):\n",
    "    return (z >= 0) * 1"
   ]
  },
  {
   "cell_type": "code",
   "execution_count": null,
   "id": "6ad66ddf-5f73-4d4a-a176-1f6ef485589a",
   "metadata": {},
   "outputs": [],
   "source": [
    "hx = threshold(np.tensordot(V, fvec, axes=1))\n",
    "hx"
   ]
  },
  {
   "cell_type": "markdown",
   "id": "a1878915-0290-4530-95ee-937f5338c0b9",
   "metadata": {},
   "source": [
    "En la segunda etapa, consideramos combinar las soluciones de los subproblemas con la suma y calculando la función signo."
   ]
  },
  {
   "cell_type": "code",
   "execution_count": null,
   "id": "69f7782e-3c37-4c3f-9e4c-bbfd65057e46",
   "metadata": {},
   "outputs": [],
   "source": [
    "w = np.array([1, 1])"
   ]
  },
  {
   "cell_type": "code",
   "execution_count": null,
   "id": "5b25671b-0db3-4432-8766-82926a21479f",
   "metadata": {},
   "outputs": [],
   "source": [
    "def sign(z):\n",
    "    return (z > 0) * 2 - 1"
   ]
  },
  {
   "cell_type": "code",
   "execution_count": null,
   "id": "7e5248eb-f2d7-4723-aa27-7c52725b761d",
   "metadata": {},
   "outputs": [],
   "source": [
    "yest = sign(np.tensordot(w, hx, axes=1))\n",
    "yest"
   ]
  },
  {
   "cell_type": "markdown",
   "id": "01dcbb0f-f7ac-4ac5-bae3-f01733a127cd",
   "metadata": {},
   "source": [
    "Todo este proceso se puede realizar *de golpe* al procesar todos los datos de entrenamiento en lugar de un vector columna. De tal manera que el resultado es un vector con la predicción de cada ejemplo de entrenamiento."
   ]
  },
  {
   "cell_type": "code",
   "execution_count": null,
   "id": "e9efb07c-8774-44a6-800e-45567fbddbed",
   "metadata": {},
   "outputs": [],
   "source": [
    "sign(np.tensordot(w, threshold(np.tensordot(V, features(inputs), axes=1)), axes=1))"
   ]
  },
  {
   "cell_type": "code",
   "execution_count": null,
   "id": "b6cba6c4-56ab-485c-8067-e231dd3c471d",
   "metadata": {},
   "outputs": [],
   "source": [
    "outputs"
   ]
  },
  {
   "cell_type": "markdown",
   "id": "9bf7637f-64ca-4d72-8335-03a6f0c76a0d",
   "metadata": {},
   "source": [
    "Implementamos la función `predict` que orquesta todas estas operaciones."
   ]
  },
  {
   "cell_type": "code",
   "execution_count": null,
   "id": "8c2f82f2-f35c-4c97-adf7-2d6130ab99ad",
   "metadata": {},
   "outputs": [],
   "source": [
    "def predict(V, w, input):\n",
    "    fvec = features(input)\n",
    "    Hvec = threshold(np.tensordot(V, fvec, axes=1))\n",
    "    yvec = sign(np.tensordot(w, Hvec, axes=1))\n",
    "    return yvec"
   ]
  },
  {
   "cell_type": "code",
   "execution_count": null,
   "id": "7c15cbff-048d-4ccc-bd77-66014f415ce9",
   "metadata": {},
   "outputs": [],
   "source": [
    "predict(V, w, X(0))"
   ]
  },
  {
   "cell_type": "markdown",
   "id": "7effab63-293b-493a-a445-22c8bc43e727",
   "metadata": {},
   "source": [
    "Visualicemos cómo este modelo clasifica puntos en el espacio."
   ]
  },
  {
   "cell_type": "code",
   "execution_count": null,
   "id": "0849b2a3-54c1-4a10-9521-a46422fd7e4a",
   "metadata": {},
   "outputs": [],
   "source": [
    "%matplotlib widget\n",
    "\n",
    "import ipywidgets\n",
    "import matplotlib.pyplot as plt\n",
    "import matplotlib as mpl\n",
    "\n",
    "plt.ioff();"
   ]
  },
  {
   "cell_type": "code",
   "execution_count": null,
   "id": "cc057927-ab88-498a-bf4f-772b21795515",
   "metadata": {},
   "outputs": [],
   "source": [
    "x1s = np.linspace(-3, 3, 100)\n",
    "x2s = np.linspace(-3, 3, 100)\n",
    "x1v, x2v = np.meshgrid(x1s, x2s)\n",
    "yv = predict(V, w, np.stack([x1v, x2v]))"
   ]
  },
  {
   "cell_type": "code",
   "execution_count": null,
   "id": "400537f3-27cf-4165-9c01-d42668e62242",
   "metadata": {},
   "outputs": [],
   "source": [
    "fig, ax = plt.subplots()\n",
    "h = ax.contourf(x1v, x2v, yv)\n",
    "fig.colorbar(mpl.cm.ScalarMappable(mpl.colors.Normalize(-1, 1)), ax=ax)\n",
    "fig.canvas.header_visible = False\n",
    "display(fig.canvas)"
   ]
  },
  {
   "cell_type": "markdown",
   "id": "152f44d0-48bc-4c1b-9d81-f2ba3a7f1669",
   "metadata": {},
   "source": [
    "¿Cómo afectan los parámetros de nuestra red neuronal a la clasificación? Hagamos nuestra visualización interactiva, usaremos la notación `V[i,j]` para referirnos a la componente en `V` del renglón `i` y columna `j`."
   ]
  },
  {
   "cell_type": "code",
   "execution_count": null,
   "id": "813baf03-cdcc-43bf-bef8-da23b47e98a1",
   "metadata": {
    "jupyter": {
     "source_hidden": true
    }
   },
   "outputs": [],
   "source": [
    "def plot_classifier(predict):\n",
    "    V11_init, V11_min, V11_max, V11_step = -1, -3, +3, 0.1\n",
    "    V12_init, V12_min, V12_max, V12_step = +1, -3, +3, 0.1\n",
    "    V13_init, V13_min, V13_max, V13_step = -1, -3, +3, 0.1\n",
    "    V21_init, V21_min, V21_max, V21_step = -1, -3, +3, 0.1\n",
    "    V22_init, V22_min, V22_max, V22_step = -1, -3, +3, 0.1\n",
    "    V23_init, V23_min, V23_max, V23_step = +1, -3, +3, 0.1\n",
    "    \n",
    "    w1_init, w1_min, w1_max, w1_step = 1, -3, +3, 0.1\n",
    "    w2_init, w2_min, w2_max, w2_step = 1, -3, +3, 0.1\n",
    "    \n",
    "    def weights(V11, V12, V13, V21, V22, V23, w1, w2):\n",
    "        V = np.array([[V11, V12, V13],\n",
    "                      [V21, V22, V23]])\n",
    "        w = np.array([w1, w2])\n",
    "        return V, w\n",
    "    \n",
    "    x1s = np.linspace(-3, 3, 100)\n",
    "    x2s = np.linspace(-3, 3, 100)\n",
    "    x1v, x2v = np.meshgrid(x1s, x2s)\n",
    "    X = np.stack([x1v, x2v])\n",
    "    \n",
    "    fig, ax = plt.subplots()\n",
    "    V_init, w_init = weights(V11_init, V12_init, V13_init, V21_init, V22_init, V23_init, w1_init, w2_init)\n",
    "    yvs = predict(V_init, w_init, X)\n",
    "    plot = ax.contourf(x1v, x2v, yvs)\n",
    "    \n",
    "    # fig.colorbar(mpl.cm.ScalarMappable(mpl.colors.Normalize(-1, 1)), ax=ax)\n",
    "    cb = fig.colorbar(plot, ax=ax)\n",
    "\n",
    "    def update_plot(V11, V12, V13, V21, V22, V23, w1, w2):\n",
    "        nonlocal cb\n",
    "        V, w = weights(V11, V12, V13, V21, V22, V23, w1, w2)\n",
    "        yvs = predict(V, w, X)\n",
    "        cb.remove()\n",
    "        ax.clear()\n",
    "        plot = ax.contourf(x1v, x2v, yvs)\n",
    "        cb = fig.colorbar(plot, ax=ax)\n",
    "        fig.canvas.draw()\n",
    "        fig.canvas.flush_events()\n",
    "\n",
    "    widget = ipywidgets.interactive(\n",
    "        update_plot,\n",
    "        V11 = ipywidgets.FloatSlider(\n",
    "            orientation=\"horizontal\",\n",
    "            description=\"V[1,1]\",\n",
    "            value=V11_init,\n",
    "            min=V11_min,\n",
    "            max=V11_max,\n",
    "            step=V11_step,\n",
    "            layout=ipywidgets.Layout(width=\"90%\"),\n",
    "        ),\n",
    "        V12 = ipywidgets.FloatSlider(\n",
    "            orientation=\"horizontal\",\n",
    "            description=\"V[1,2]\",\n",
    "            value=V12_init,\n",
    "            min=V12_min,\n",
    "            max=V12_max,\n",
    "            step=V12_step,\n",
    "            layout=ipywidgets.Layout(width=\"90%\"),\n",
    "        ),\n",
    "        V13 = ipywidgets.FloatSlider(\n",
    "            orientation=\"horizontal\",\n",
    "            description=\"V[1,3]\",\n",
    "            value=V13_init,\n",
    "            min=V13_min,\n",
    "            max=V13_max,\n",
    "            step=V13_step,\n",
    "            layout=ipywidgets.Layout(width=\"90%\"),\n",
    "        ),\n",
    "        V21 = ipywidgets.FloatSlider(\n",
    "            orientation=\"horizontal\",\n",
    "            description=\"V[2,1]\",\n",
    "            value=V21_init,\n",
    "            min=V21_min,\n",
    "            max=V21_max,\n",
    "            step=V21_step,\n",
    "            layout=ipywidgets.Layout(width=\"90%\"),\n",
    "        ),\n",
    "        V22 = ipywidgets.FloatSlider(\n",
    "            orientation=\"horizontal\",\n",
    "            description=\"V[2,2]\",\n",
    "            value=V22_init,\n",
    "            min=V22_min,\n",
    "            max=V22_max,\n",
    "            step=V22_step,\n",
    "            layout=ipywidgets.Layout(width=\"90%\"),\n",
    "        ),\n",
    "        V23 = ipywidgets.FloatSlider(\n",
    "            orientation=\"horizontal\",\n",
    "            description=\"V[2,3]\",\n",
    "            value=V23_init,\n",
    "            min=V23_min,\n",
    "            max=V23_max,\n",
    "            step=V23_step,\n",
    "            layout=ipywidgets.Layout(width=\"90%\"),\n",
    "        ),\n",
    "        w1 = ipywidgets.FloatSlider(\n",
    "            orientation=\"horizontal\",\n",
    "            description=\"w[1]\",\n",
    "            value=w1_init,\n",
    "            min=w1_min,\n",
    "            max=w1_max,\n",
    "            step=w1_step,\n",
    "            layout=ipywidgets.Layout(width=\"90%\"),\n",
    "        ),\n",
    "        w2 = ipywidgets.FloatSlider(\n",
    "            orientation=\"horizontal\",\n",
    "            description=\"w[2]\",\n",
    "            value=w2_init,\n",
    "            min=w2_min,\n",
    "            max=w2_max,\n",
    "            step=w2_step,\n",
    "            layout=ipywidgets.Layout(width=\"90%\"),\n",
    "        ),\n",
    "    )\n",
    "    fig.canvas.header_visible = False\n",
    "    display(widget)\n",
    "    display(fig.canvas)\n",
    "    return None"
   ]
  },
  {
   "cell_type": "code",
   "execution_count": null,
   "id": "10a48711-7ce8-41e1-b6fe-762b5ce1f21e",
   "metadata": {},
   "outputs": [],
   "source": [
    "plot_classifier(predict)"
   ]
  },
  {
   "cell_type": "markdown",
   "id": "45e260b4-45d5-4387-8048-f9be456e21d0",
   "metadata": {},
   "source": [
    "**Problema 1**\n",
    "\n",
    "Implementa la función `make_predictor`, toma dos argumentos: `hidden_activation`, que es una función de activación para la capa oculta; `final_activation`, que es una función de activación para la capa final. Debe regresar un predictor con la estructura de la función `predict` de arriba."
   ]
  },
  {
   "cell_type": "code",
   "execution_count": null,
   "id": "6ab659b6-fa5e-40eb-829b-6ee5883799c0",
   "metadata": {},
   "outputs": [],
   "source": [
    "def make_predictor(hidden_activation, final_activation):\n",
    "    def predict(V, w, input):\n",
    "        raise NotImplementedError(\"Falta implementar make_predictor\")\n",
    "    return predict"
   ]
  },
  {
   "cell_type": "markdown",
   "id": "6ff9a13e-e8e6-4f53-8df5-7ebebd0d1f45",
   "metadata": {},
   "source": [
    "Prueba tu implementación utilizando `plot_classifier` y un predictor construido con las funciones de activación `threshold` y `sign`. Deberías obtener una gráfica interactiva como la anterior."
   ]
  },
  {
   "cell_type": "code",
   "execution_count": null,
   "id": "8aa65462-b003-40d7-ad1c-ecd5fdb2ce45",
   "metadata": {},
   "outputs": [],
   "source": [
    "plot_classifier(make_predictor(threshold, sign))"
   ]
  },
  {
   "cell_type": "markdown",
   "id": "e04fafe1-ca39-4281-b7b5-ae976ca49c1e",
   "metadata": {},
   "source": [
    "**Problema 2**\n",
    "\n",
    "Implementa la función de activación logística `logistic` y la función de activación rectificador `relu`. Observa que `logistic` regresa un valor entre $0$ y $1$, implementa una función constructora de sigmoides llamada `sigmoid` que regresa una función como `logistic` cuyos valores sean entre una cota inferior y una superior."
   ]
  },
  {
   "cell_type": "code",
   "execution_count": null,
   "id": "8e1d54a6-7fce-4e6c-8a52-e120016c91c3",
   "metadata": {},
   "outputs": [],
   "source": [
    "def logistic(z):\n",
    "    raise NotImplementedError(\"Falta implementar logistic\")"
   ]
  },
  {
   "cell_type": "code",
   "execution_count": null,
   "id": "a90ce6b6-5338-431a-9bd2-06b6a0e78469",
   "metadata": {},
   "outputs": [],
   "source": [
    "def relu(z):\n",
    "    raise NotImplementedError(\"Falta implementar relu\")"
   ]
  },
  {
   "cell_type": "code",
   "execution_count": null,
   "id": "b6e30a29-cf07-4ecd-a8a3-97497c0a30ee",
   "metadata": {},
   "outputs": [],
   "source": [
    "def sigmoid(lower, upper):\n",
    "    def activation(z):\n",
    "        raise NotImplementedError(\"Falta implementar sigmoid\")\n",
    "    return activation"
   ]
  },
  {
   "cell_type": "markdown",
   "id": "378f527a-83df-40ab-9824-5bcc098ad7c5",
   "metadata": {},
   "source": [
    "Prueba tus implementaciones utilizando `plot_classifier` y `make_predictor`.\n",
    "\n",
    "Determina por qué se clasifican de la misma manera todos los puntos al usar `logistic` como activación oculta y `sign` como activación final. Puede resultarte útil no utilizar una función de activación en la capa final, puedes lograr esto modificando únicamente la siguiente celda."
   ]
  },
  {
   "cell_type": "code",
   "execution_count": null,
   "id": "7d2e2d0c-a7fd-4cd5-880d-82ff1e75b1f0",
   "metadata": {},
   "outputs": [],
   "source": [
    "plot_classifier(make_predictor(logistic, sign))"
   ]
  },
  {
   "cell_type": "markdown",
   "id": "064f0ed6-1330-4774-8899-7eb39394a53b",
   "metadata": {},
   "source": [
    "**Problema 3**\n",
    "\n",
    "Modela una red neuronal de $n$ capas utilizando los mecanismos de orientado a objetos de Python.\n",
    "Investiga el algoritmo de retropropagación para aprender pesos utilizando la pérdida cuadrática y el descenso de gradiente estocástico.\n",
    "\n",
    "Por el momento, verifica el correcto funcionamiento de tus redes neuronales generando conjuntos de datos sintéticos."
   ]
  }
 ],
 "metadata": {
  "kernelspec": {
   "display_name": "Python 3 (ipykernel)",
   "language": "python",
   "name": "python3"
  },
  "language_info": {
   "codemirror_mode": {
    "name": "ipython",
    "version": 3
   },
   "file_extension": ".py",
   "mimetype": "text/x-python",
   "name": "python",
   "nbconvert_exporter": "python",
   "pygments_lexer": "ipython3",
   "version": "3.11.7"
  }
 },
 "nbformat": 4,
 "nbformat_minor": 5
}
