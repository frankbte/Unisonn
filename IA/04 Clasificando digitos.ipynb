{
 "cells": [
  {
   "cell_type": "code",
   "execution_count": null,
   "id": "178855bc-426f-4370-935c-9f71e0d2cd74",
   "metadata": {},
   "outputs": [],
   "source": [
    "%matplotlib widget\n",
    "\n",
    "import numpy as np\n",
    "import requests\n",
    "import gzip\n",
    "import os\n",
    "import hashlib\n",
    "import matplotlib as mpl\n",
    "import matplotlib.pyplot as plt\n",
    "from IPython.display import Markdown"
   ]
  },
  {
   "cell_type": "markdown",
   "id": "2be21165-27bf-4c4f-8bcf-542a81025093",
   "metadata": {},
   "source": [
    "# Clasificación de dígitos\n",
    "\n",
    "Utilizamos la base de datos de dígitos escritos a mano [MNIST](http://yann.lecun.com/exdb/mnist/)."
   ]
  },
  {
   "cell_type": "code",
   "execution_count": null,
   "id": "30ceb033-f4cf-4b02-ab24-b7e733c3f6ba",
   "metadata": {},
   "outputs": [],
   "source": [
    "def fetch(url):\n",
    "    hash = hashlib.md5(url.encode(\"utf-8\")).hexdigest()\n",
    "    path = os.path.join(\".\", hash)\n",
    "    if os.path.isfile(path):\n",
    "        with open(path, \"rb\") as f:\n",
    "            data = f.read()\n",
    "    else:\n",
    "        with open(path, \"wb\") as f:\n",
    "            data = requests.get(url).content\n",
    "            f.write(data)\n",
    "    return np.frombuffer(\n",
    "        gzip.decompress(data),\n",
    "        dtype=np.uint8,\n",
    "    ).copy()"
   ]
  },
  {
   "cell_type": "code",
   "execution_count": null,
   "id": "75492e69-545b-4afd-adeb-2ef85432a0c5",
   "metadata": {},
   "outputs": [],
   "source": [
    "image_data = fetch(\"http://yann.lecun.com/exdb/mnist/train-images-idx3-ubyte.gz\")\n",
    "label_data = fetch(\"http://yann.lecun.com/exdb/mnist/train-labels-idx1-ubyte.gz\")"
   ]
  },
  {
   "cell_type": "markdown",
   "id": "c369ebb0-509c-445b-bf1d-64c8be65b540",
   "metadata": {},
   "source": [
    "## Formato de archivos"
   ]
  },
  {
   "cell_type": "markdown",
   "id": "8f3e1b14-657b-4f34-9e02-ae06780d620b",
   "metadata": {},
   "source": [
    "Los primeros 4 bytes del archivo de imágenes contienen el número mágico 2051"
   ]
  },
  {
   "cell_type": "code",
   "execution_count": null,
   "id": "1106017e-2e64-4c80-a637-6c5cc8bd3ed1",
   "metadata": {},
   "outputs": [],
   "source": [
    "[image_magic] = image_data[0:4][::-1].copy().view(np.uint32)\n",
    "assert image_magic == 2051"
   ]
  },
  {
   "cell_type": "markdown",
   "id": "616b94c7-bfee-41a1-8fee-0e4228c8718d",
   "metadata": {},
   "source": [
    "Los siguientes 4 bytes del archivo de imágenes contienen la cantidad de ejemplos"
   ]
  },
  {
   "cell_type": "code",
   "execution_count": null,
   "id": "6ecbc2ea-7a8c-4f33-b9c4-402439a48616",
   "metadata": {},
   "outputs": [],
   "source": [
    "[image_total] = image_data[4:8][::-1].copy().view(np.uint32)"
   ]
  },
  {
   "cell_type": "markdown",
   "id": "b5c9f534-1897-49e0-a8e0-2031e9a8f23f",
   "metadata": {},
   "source": [
    "Los siguientes 4 bytes contienen la cantidad de renglones y los 4 bytes que le siguen la cantidad de columnas de cada imagen"
   ]
  },
  {
   "cell_type": "code",
   "execution_count": null,
   "id": "b5455963-10f0-42ec-a38a-4956c7241c76",
   "metadata": {},
   "outputs": [],
   "source": [
    "[image_rows, image_cols] = image_data[8:16][::-1].copy().view(np.uint32)"
   ]
  },
  {
   "cell_type": "markdown",
   "id": "adc055cd-5406-4bc5-8d3f-7a3833225d70",
   "metadata": {},
   "source": [
    "El resto de los bytes corresponden al valor en escala de grises de cada pixel, donde 0 significa blanco y 255 significa negro"
   ]
  },
  {
   "cell_type": "code",
   "execution_count": null,
   "id": "79c0ae81-4d45-4607-9fc3-d1c72c194397",
   "metadata": {},
   "outputs": [],
   "source": [
    "assert len(image_data[16:]) == image_total * image_rows * image_cols\n",
    "images = image_data[16:].reshape((image_total, image_rows, image_cols))"
   ]
  },
  {
   "cell_type": "markdown",
   "id": "0ac7aaa8-4a5f-42ca-8314-c661adbb4dab",
   "metadata": {},
   "source": [
    "Los primeros 4 bytes del archivo de etiquetas contienen el número mágico 2049"
   ]
  },
  {
   "cell_type": "code",
   "execution_count": null,
   "id": "e81b5771-044f-408e-9ffc-6f787f0907b7",
   "metadata": {},
   "outputs": [],
   "source": [
    "[label_magic] = label_data[0:4][::-1].copy().view(np.uint32)\n",
    "assert label_magic == 2049"
   ]
  },
  {
   "cell_type": "markdown",
   "id": "3b8a9d2f-b08d-4a92-942c-03ecdc562c6c",
   "metadata": {},
   "source": [
    "Los siguientes 4 bytes del archivo de etiquetas contienen la cantidad de ejemplos"
   ]
  },
  {
   "cell_type": "code",
   "execution_count": null,
   "id": "da827736-b8de-4746-8bbe-e2f9ae842bc6",
   "metadata": {},
   "outputs": [],
   "source": [
    "[label_total] = label_data[4:8][::-1].copy().view(np.uint32)\n",
    "assert label_total == image_total"
   ]
  },
  {
   "cell_type": "markdown",
   "id": "c92a0719-dbb1-4749-854f-772b72278b47",
   "metadata": {},
   "source": [
    "El resto de los bytes corresponden a el dígito representado en cada imagen de ejemplo"
   ]
  },
  {
   "cell_type": "code",
   "execution_count": null,
   "id": "c84a9873-4774-4f74-97d6-5ddf0e107533",
   "metadata": {},
   "outputs": [],
   "source": [
    "assert len(label_data[8:]) == label_total\n",
    "labels = label_data[8:]"
   ]
  },
  {
   "cell_type": "markdown",
   "id": "6698265b-9286-4b52-b49b-4819df7d1110",
   "metadata": {},
   "source": [
    "## Visualizando dígitos"
   ]
  },
  {
   "cell_type": "code",
   "execution_count": null,
   "id": "af33edbf-00b2-42a9-9fa4-09cf486b7bc2",
   "metadata": {},
   "outputs": [],
   "source": [
    "plt.ioff()\n",
    "def show_example(n):\n",
    "    plt.close()\n",
    "    fig = plt.figure()\n",
    "    ax = fig.add_subplot()\n",
    "    ax.imshow(images[n], cmap=mpl.cm.gray_r)\n",
    "    ax.set_title(f\"La imagen contiene el dígito {labels[n]}\")\n",
    "    display(fig)"
   ]
  },
  {
   "cell_type": "code",
   "execution_count": null,
   "id": "c4a88f1f-5c00-492c-b9bd-e6c2c29ba966",
   "metadata": {},
   "outputs": [],
   "source": [
    "show_example(3)"
   ]
  },
  {
   "cell_type": "markdown",
   "id": "d4405baa-4188-45f5-904d-4b8d832b126a",
   "metadata": {},
   "source": [
    "## Construcción del conjunto de entrenamiento\n",
    "\n",
    "Cada ejemplo consiste de la pareja entrada-salida con las entradas siendo vectores unidimensionales con componentes enteras en el rango $[0,255]$ y las salidas siendo +1 si el dígito es cero y -1 en otro caso."
   ]
  },
  {
   "cell_type": "code",
   "execution_count": null,
   "id": "c43688dd-969c-4690-b969-ec738910a033",
   "metadata": {},
   "outputs": [],
   "source": [
    "Dtrain = [\n",
    "    (images[i].reshape(image_rows * image_cols),\n",
    "     +1 if labels[i] == 0 else -1)\n",
    "    for i in range(image_total)\n",
    "]"
   ]
  },
  {
   "cell_type": "markdown",
   "id": "ccb37188-4b49-4461-84c9-5dfe7f1ed62f",
   "metadata": {},
   "source": [
    "### Implementación de clasificación lineal con descenso de gradiente estocástico"
   ]
  },
  {
   "cell_type": "code",
   "execution_count": null,
   "id": "8852ddf1-405d-4ffb-b006-ca7e6fe5e4e7",
   "metadata": {},
   "outputs": [],
   "source": [
    "def features(x):\n",
    "    return x"
   ]
  },
  {
   "cell_type": "code",
   "execution_count": null,
   "id": "7c5bee2a-b7d3-4354-9925-7b3eaf93574e",
   "metadata": {},
   "outputs": [],
   "source": [
    "def zero_weights():\n",
    "    return np.zeros(image_rows * image_cols)"
   ]
  },
  {
   "cell_type": "code",
   "execution_count": null,
   "id": "3545501d-0310-42ae-b455-951e0dc2e150",
   "metadata": {},
   "outputs": [],
   "source": [
    "def predict(w, x):\n",
    "    return np.sign(w.dot(features(x)))"
   ]
  },
  {
   "cell_type": "code",
   "execution_count": null,
   "id": "c3a9db55-b2e8-4d40-9432-9a9f9b8aab63",
   "metadata": {},
   "outputs": [],
   "source": [
    "def margin(x, y, w):\n",
    "    return predict(w, x)*y"
   ]
  },
  {
   "cell_type": "code",
   "execution_count": null,
   "id": "33b62735-491c-4dd9-bf0b-248066924172",
   "metadata": {},
   "outputs": [],
   "source": [
    "def loss_hinge(x, y, w):\n",
    "    return max(1 - margin(x, y, w), 0)"
   ]
  },
  {
   "cell_type": "code",
   "execution_count": null,
   "id": "8b81437d-931c-4168-ba78-bf06b35bb462",
   "metadata": {},
   "outputs": [],
   "source": [
    "def grad_loss_hinge(x, y, w):\n",
    "    return -features(x)*y if margin(x, y, w) < 1 else np.zeros_like(w)"
   ]
  },
  {
   "cell_type": "code",
   "execution_count": null,
   "id": "988f6fff-8cb8-461b-8cb0-1bf014c3b519",
   "metadata": {},
   "outputs": [],
   "source": [
    "def train_loss(Dtrain, loss, w):\n",
    "    examples = len(Dtrain)\n",
    "    total = sum(loss(x, y, w) for x, y in Dtrain)\n",
    "    return total / examples"
   ]
  },
  {
   "cell_type": "code",
   "execution_count": null,
   "id": "8fd90daa-f9e7-436b-a54f-13226b6aff40",
   "metadata": {},
   "outputs": [],
   "source": [
    "def grad_train_loss(Dtrain, grad_loss, w):\n",
    "    examples = len(Dtrain)\n",
    "    total = sum(grad_loss(x, y, w) for x, y in Dtrain)\n",
    "    return total / examples"
   ]
  },
  {
   "cell_type": "code",
   "execution_count": null,
   "id": "e2eb6356-52af-4608-9262-c27173ec6983",
   "metadata": {},
   "outputs": [],
   "source": [
    "def eta_decreasing(init_eta):\n",
    "    def decreaser(n):\n",
    "        return init_eta / np.sqrt(n)\n",
    "    return decreaser"
   ]
  },
  {
   "cell_type": "code",
   "execution_count": null,
   "id": "01f0d790-576c-49d1-af97-5878012d7231",
   "metadata": {},
   "outputs": [],
   "source": [
    "def GD(data, loss, grad_loss, init_weights, eta, epochs):\n",
    "    w_hist = []\n",
    "    tl_hist = []\n",
    "    w = init_weights()\n",
    "    for t in range(1, epochs + 1):\n",
    "        tl = train_loss(data, loss, w)\n",
    "        gtl = grad_train_loss(data, grad_loss, w)\n",
    "        w_hist.append(w)\n",
    "        tl_hist.append(tl)\n",
    "        w = w - eta * gtl\n",
    "    return w, (w_hist, tl_hist)"
   ]
  },
  {
   "cell_type": "code",
   "execution_count": null,
   "id": "b700851f-8cec-47a9-9af1-99f1d7505c65",
   "metadata": {},
   "outputs": [],
   "source": [
    "def SGD(data, loss, grad_loss, init_weights, eta_func, epochs):\n",
    "    w_hist = []\n",
    "    tl_hist = []\n",
    "    w = init_weights()\n",
    "    n = 1\n",
    "    for t in range(1, epochs + 1):\n",
    "        w_hist.append(w)\n",
    "        tl_hist.append(train_loss(data, loss, w))\n",
    "        for x, y in data:\n",
    "            gl = grad_loss(x, y, w)\n",
    "            eta = eta_func(n)\n",
    "            w = w - eta * gl\n",
    "            n += 1\n",
    "    return w, (w_hist, tl_hist)"
   ]
  },
  {
   "cell_type": "code",
   "execution_count": null,
   "id": "3d45ce38-419d-4a1e-9aa7-3a711ebb587c",
   "metadata": {},
   "outputs": [],
   "source": [
    "def SGDmb(data, loss, grad_loss, init_weights, eta_func, epochs, minibatches):\n",
    "    w_hist = []\n",
    "    tl_hist = []\n",
    "    w = init_weights()\n",
    "    n = 1\n",
    "    for t in range(1, epochs + 1):\n",
    "        w_hist.append(w)\n",
    "        tl_hist.append(train_loss(data, loss, w))\n",
    "        for i in range(0, len(data), minibatches):\n",
    "            subdata = data[i:min(i + minibatches, len(data))]\n",
    "            gtl = grad_train_loss(subdata, grad_loss, w)\n",
    "            eta = eta_func(n)\n",
    "            w = w - eta * gtl\n",
    "            n += 1\n",
    "    return w, (w_hist, tl_hist)"
   ]
  },
  {
   "cell_type": "code",
   "execution_count": null,
   "id": "d88461b1-f8b7-43d0-8238-708162e57054",
   "metadata": {},
   "outputs": [],
   "source": [
    "%%time\n",
    "\n",
    "gd_w, (gd_ws, gd_tls) = GD(\n",
    "            data = D,\n",
    "            loss = loss_hinge,\n",
    "       grad_loss = grad_loss_hinge,\n",
    "    init_weights = zero_weights,\n",
    "             eta = 0.1,\n",
    "          epochs = 10,\n",
    ")"
   ]
  },
  {
   "cell_type": "code",
   "execution_count": null,
   "id": "e096770a-c691-40c2-927e-2ae0f69d6be1",
   "metadata": {},
   "outputs": [],
   "source": [
    "%%time\n",
    "\n",
    "sgd_w, (sgd_ws, sgd_tls) = SGD(\n",
    "            data = D,\n",
    "            loss = loss_hinge,\n",
    "       grad_loss = grad_loss_hinge,\n",
    "    init_weights = zero_weights,\n",
    "        eta_func = eta_decreasing(1),\n",
    "          epochs = 10,\n",
    ")"
   ]
  },
  {
   "cell_type": "code",
   "execution_count": null,
   "id": "3ef5fb86-f7e3-480d-949e-0ae36b4c2822",
   "metadata": {},
   "outputs": [],
   "source": [
    "%%time\n",
    "\n",
    "sgdmb_w, (sgdmb_ws, sgdmb_tls) = SGDmb(\n",
    "            data = D,\n",
    "            loss = loss_hinge,\n",
    "       grad_loss = grad_loss_hinge,\n",
    "    init_weights = zero_weights,\n",
    "        eta_func = eta_decreasing(1),\n",
    "          epochs = 10,\n",
    "     minibatches = 100,\n",
    ")"
   ]
  },
  {
   "cell_type": "code",
   "execution_count": null,
   "id": "ff4fd824-93ce-4311-8857-b6ac84aa1b5c",
   "metadata": {
    "jupyter": {
     "source_hidden": true
    }
   },
   "outputs": [],
   "source": [
    "plt.close()\n",
    "plt.ioff()\n",
    "\n",
    "fig = plt.figure(figsize=(8,5))\n",
    "ax = fig.add_subplot()\n",
    "\n",
    "epochs = list(range(1, len(sgd_tls) + 1))\n",
    "ax.plot(epochs, gd_tls, label = \"GD\")\n",
    "ax.plot(epochs, sgd_tls, label = \"SGD\")\n",
    "ax.plot(epochs, sgdmb_tls, label = \"SGDmb\")\n",
    "ax.legend()\n",
    "ax.set_title(\"Learning with linear classifier and hinge loss\")\n",
    "ax.set_xlabel(\"epoch\")\n",
    "ax.set_ylabel(\"TrainLoss\")\n",
    "ax.set_xlim((epochs[0], epochs[-1]))\n",
    "\n",
    "fig.canvas.header_visible = False\n",
    "display(fig.canvas);"
   ]
  }
 ],
 "metadata": {
  "kernelspec": {
   "display_name": "Python 3 (ipykernel)",
   "language": "python",
   "name": "python3"
  },
  "language_info": {
   "codemirror_mode": {
    "name": "ipython",
    "version": 3
   },
   "file_extension": ".py",
   "mimetype": "text/x-python",
   "name": "python",
   "nbconvert_exporter": "python",
   "pygments_lexer": "ipython3",
   "version": "3.11.6"
  }
 },
 "nbformat": 4,
 "nbformat_minor": 5
}
