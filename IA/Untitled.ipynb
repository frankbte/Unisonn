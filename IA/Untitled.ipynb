{
 "cells": [
  {
   "cell_type": "code",
   "execution_count": 1,
   "id": "4f35faf0-3fbe-44fd-97e8-28231a4354ec",
   "metadata": {},
   "outputs": [],
   "source": [
    "from abc import ABC, abstractmethod\n",
    "\n",
    "class SearchProblem(ABC):\n",
    "    def __init__(self, n):\n",
    "        assert isinstance(n, int)\n",
    "        assert n >= 1\n",
    "        self.n = n\n",
    "        \n",
    "    @abstractmethod\n",
    "    def state_test(self, value):\n",
    "        \"\"\"\n",
    "        Tests if the given value is a state\n",
    "        \"\"\"\n",
    "        ...\n",
    "    @abstractmethod\n",
    "    def action_test(self, value):\n",
    "        \"\"\"\n",
    "        Tests if the given value is an action\n",
    "        \"\"\"\n",
    "        ...\n",
    "    @abstractmethod\n",
    "    def initial_state(self):\n",
    "        \"\"\"\n",
    "        Return the initial state\n",
    "        \"\"\"\n",
    "        ...\n",
    "\n",
    "    @abstractmethod\n",
    "    def goal_test(self, state):\n",
    "        \"\"\"\n",
    "        Test if the given state is final\n",
    "        \"\"\"\n",
    "        ...\n",
    "\n",
    "    @abstractmethod\n",
    "    def actions(self, state):\n",
    "        \"\"\"\n",
    "        Returns the actions that can be performed in the given state\n",
    "        \"\"\"\n",
    "        ...\n",
    "\n",
    "    @abstractmethod\n",
    "    def state_from(self, state, action):\n",
    "        \"\"\"\n",
    "        Returns the state that results from performing the given action in the given state\n",
    "        \"\"\"\n",
    "        ...\n",
    "\n",
    "    @abstractmethod\n",
    "    def cost_from(self, state, action):\n",
    "        \"\"\"\n",
    "        Returns the cost that results from performing the given action in the given state\n",
    "        \"\"\"\n",
    "        ...\n",
    "        \n",
    "    @abstractmethod\n",
    "    def posible(self, lista, lista_destino):\n",
    "        \"\"\"\n",
    "        Returns the cost that results from performing the given action in the given state\n",
    "        \"\"\"\n",
    "        ...\n",
    "        \n",
    "    def path_cost(self, accumulated, state1, action, state2):\n",
    "        \"\"\"\n",
    "        Returns the accumulated cost throught the actions \n",
    "        \"\"\"\n",
    "        raise NotImplementedError\n",
    "\n",
    "    def state_value(self, state):\n",
    "        raise NotImplementedError"
   ]
  },
  {
   "cell_type": "code",
   "execution_count": 2,
   "id": "3a24de53-89a5-4b81-b322-dc668ae64ecc",
   "metadata": {},
   "outputs": [],
   "source": [
    "class HanoiProblem(ABC):\n",
    "    def __init__(self, n):\n",
    "        assert isinstance(n, int)\n",
    "        assert n >= 1\n",
    "        self.n = n\n",
    "\n",
    "    def state_test(self, value):\n",
    "        \"\"\"\n",
    "        Tests if the given value is a state\n",
    "        \"\"\"\n",
    "        if len(state) <= 0:\n",
    "            return False\n",
    "        for item in state:\n",
    "            if item < 0 or item > 2:\n",
    "                return False\n",
    "        return True\n",
    "        \n",
    "    def action_test(self, value):\n",
    "        \"\"\"\n",
    "        Tests if the given value is an action\n",
    "        \"\"\"\n",
    "        return all(0<=x<=2 for x in value)\n",
    "        \n",
    "    def initial_state(self):\n",
    "        \"\"\"\n",
    "        Return the initial state\n",
    "        \"\"\"\n",
    "        return [0]*self.n\n",
    "\n",
    "    def goal_test(self, state):\n",
    "        \"\"\"\n",
    "        Test if the given state is final\n",
    "        \"\"\"\n",
    "        return state == [2]*self.n\n",
    "\n",
    "    def actions(self, state):\n",
    "        \"\"\"\n",
    "        Returns the actions that can be performed in the given state\n",
    "        \"\"\"\n",
    "        ...\n",
    "\n",
    "    def state_from(self, state, action):\n",
    "        \"\"\"\n",
    "        Returns the state that results from performing the given action in the given state\n",
    "        \"\"\"\n",
    "        ...\n",
    "\n",
    "    def cost_from(self, state, action):\n",
    "        \"\"\"\n",
    "        Returns the cost that results from performing the given action in the given state\n",
    "        \"\"\"\n",
    "        ...\n",
    "        \n",
    "    def path_cost(self, accumulated, state1, action, state2):\n",
    "        \"\"\"\n",
    "        Returns the accumulated cost throught the actions \n",
    "        \"\"\"\n",
    "        raise NotImplementedError\n",
    "\n",
    "    def state_value(self, state):\n",
    "        raise NotImplementedError"
   ]
  },
  {
   "cell_type": "code",
   "execution_count": 3,
   "id": "c5bd5dcf-3107-4e85-a506-887c6abd6f93",
   "metadata": {},
   "outputs": [],
   "source": [
    "problem = HanoiProblem(3)"
   ]
  },
  {
   "cell_type": "code",
   "execution_count": 4,
   "id": "4d7b68da-0718-4d22-8baa-64bbc2ce13ee",
   "metadata": {},
   "outputs": [
    {
     "data": {
      "text/plain": [
       "False"
      ]
     },
     "execution_count": 4,
     "metadata": {},
     "output_type": "execute_result"
    }
   ],
   "source": [
    "problem.goal_test([2,1,2])"
   ]
  },
  {
   "cell_type": "code",
   "execution_count": 76,
   "id": "9c2bb00a-d7b8-47d6-9d8f-6ada1c7cb860",
   "metadata": {},
   "outputs": [],
   "source": [
    "def pos_actions(states):\n",
    "    actions = []\n",
    "    \n",
    "    if len(state) <= 0:\n",
    "        return False\n",
    "    for item in state:\n",
    "        if item < 0 or item > 2:\n",
    "            return False\n",
    "            \n",
    "    for i in range(len(state)):\n",
    "        for j in state:\n",
    "        "
   ]
  },
  {
   "cell_type": "code",
   "execution_count": 8,
   "id": "1ea743bc-dbbb-42fc-90a0-2e693aa5a856",
   "metadata": {},
   "outputs": [
    {
     "data": {
      "text/plain": [
       "[1, 1, 2, 0, 1]"
      ]
     },
     "execution_count": 8,
     "metadata": {},
     "output_type": "execute_result"
    }
   ],
   "source": [
    "a = [1,1,2,0,1]\n",
    "b= a #a[::-1]\n",
    "b"
   ]
  },
  {
   "cell_type": "code",
   "execution_count": 9,
   "id": "b6483f8c-8391-431a-b611-50024453c43d",
   "metadata": {},
   "outputs": [
    {
     "name": "stdout",
     "output_type": "stream",
     "text": [
      "menor\n",
      "menor\n"
     ]
    }
   ],
   "source": [
    "for i in range(len(a)-1):\n",
    "    if a[i] < a[i+1]:\n",
    "        print(\"menor\")"
   ]
  },
  {
   "cell_type": "code",
   "execution_count": 11,
   "id": "e66fcdbd-be4a-4b77-9bbd-4d5015df2fb9",
   "metadata": {},
   "outputs": [
    {
     "name": "stdout",
     "output_type": "stream",
     "text": [
      "igual\n",
      "Derecha\n",
      "Izquierda\n",
      "igual\n"
     ]
    }
   ],
   "source": [
    "for i in range(len(b)-1):\n",
    "    if b[0] < b[i+1]:\n",
    "        print(\"Derecha\")\n",
    "    if b[0] > b[i+1]:\n",
    "        print(\"Izquierda\")\n",
    "    if b[0] == b[i+1]:\n",
    "        print(\"igual\")"
   ]
  },
  {
   "cell_type": "code",
   "execution_count": 111,
   "id": "b3cab8be-35c9-425d-b13a-3fe3c4878394",
   "metadata": {},
   "outputs": [
    {
     "name": "stdout",
     "output_type": "stream",
     "text": [
      "None\n"
     ]
    }
   ],
   "source": [
    "print(a.reverse())"
   ]
  },
  {
   "cell_type": "code",
   "execution_count": 22,
   "id": "82bcb9de-736b-4c2d-8d84-adc66e872ad8",
   "metadata": {},
   "outputs": [
    {
     "data": {
      "text/plain": [
       "[1, 1, 2, 0, 1]"
      ]
     },
     "execution_count": 22,
     "metadata": {},
     "output_type": "execute_result"
    }
   ],
   "source": [
    "a"
   ]
  },
  {
   "cell_type": "code",
   "execution_count": 34,
   "id": "4c6e48d5-5efc-47a5-aa64-229f77c1f341",
   "metadata": {},
   "outputs": [
    {
     "name": "stdout",
     "output_type": "stream",
     "text": [
      "[(0, 0), (0, 1), (0, 2)]\n"
     ]
    }
   ],
   "source": [
    "pos_moves = []\n",
    "for i in range(len(a)):\n",
    "    for j in range(len(a)-(len(a)-3)):\n",
    "        if i == 0:\n",
    "            move = (i,j)\n",
    "            pos_moves.append(move)\n",
    "        else:\n",
    "            pass\n",
    "            \n",
    "        \n",
    "    \n",
    "\n",
    "print(pos_moves)"
   ]
  },
  {
   "cell_type": "code",
   "execution_count": 25,
   "id": "fa42e017-8a8c-48df-9ad4-2dd2222c68bc",
   "metadata": {},
   "outputs": [
    {
     "ename": "AttributeError",
     "evalue": "'int' object has no attribute 'index'",
     "output_type": "error",
     "traceback": [
      "\u001b[1;31m---------------------------------------------------------------------------\u001b[0m",
      "\u001b[1;31mAttributeError\u001b[0m                            Traceback (most recent call last)",
      "Cell \u001b[1;32mIn[25], line 2\u001b[0m\n\u001b[0;32m      1\u001b[0m \u001b[38;5;28;01mfor\u001b[39;00m i \u001b[38;5;129;01min\u001b[39;00m a:\n\u001b[1;32m----> 2\u001b[0m     \u001b[38;5;28mprint\u001b[39m(\u001b[43mi\u001b[49m\u001b[38;5;241;43m.\u001b[39;49m\u001b[43mindex\u001b[49m())\n",
      "\u001b[1;31mAttributeError\u001b[0m: 'int' object has no attribute 'index'"
     ]
    }
   ],
   "source": [
    "for i in a:\n",
    "    print(i.index())"
   ]
  },
  {
   "cell_type": "code",
   "execution_count": 152,
   "id": "68386abe-84fd-4033-92c8-93db71e5a896",
   "metadata": {},
   "outputs": [],
   "source": [
    "a = [1,2,0,1,2]\n",
    "def pos_actions(a):\n",
    "    print(f\"Lista inicial {a}\")\n",
    "    result = []\n",
    "    #Para a[0]\n",
    "    for values in range(3):\n",
    "        result.append((0,values))\n",
    "    \n",
    "    #Para los demas:\n",
    "    wait = []\n",
    "    for i in range(1,len(a)):\n",
    "        if 0 not in wait:\n",
    "            result.append((i,0))\n",
    "        if 1 not in wait:\n",
    "            result.append((i,1))\n",
    "        if 2 not in wait:\n",
    "            result.append((i,2))\n",
    "        wait = []\n",
    "            \n",
    "        for j in range(len(a)):\n",
    "            if a[j]==a[i]: #Para que pare cuando llegue al valor, osea que solo cheque los de atras\n",
    "                break\n",
    "            elif a[j] in wait: #Si el valor no ha sido agregado previamente, lo agregamos \n",
    "                wait.append(a[j])\n",
    "    return result"
   ]
  },
  {
   "cell_type": "code",
   "execution_count": 155,
   "id": "fbb7f52f",
   "metadata": {},
   "outputs": [],
   "source": [
    "a = [1,2,0,1,2]\n",
    "def pos_actions(a):\n",
    "    print(f\"Lista inicial {a}\")\n",
    "    result = []\n",
    "    #Para a[0]\n",
    "    for values in range(3):\n",
    "        result.append((0,values))\n",
    "    \n",
    "    #Para los demas:\n",
    "    wait = []\n",
    "    for i in range(1,len(a)-1):\n",
    "        for j in range(len(a[:i])):\n",
    "            if a[j]!=a[i]: #Para que pare cuando llegue al valor, osea que solo cheque los de atras\n",
    "                if (i, a[j]) is not result and : #Si el valor no ha sido agregado previamente, lo agregamos \n",
    "                    result.append((i, a[j]))\n",
    "\n",
    "    #para a[-1]:\n",
    "    cols = [0,1,2]\n",
    "    for value in cols:\n",
    "        if value not in a:\n",
    "            result.append((4,value))\n",
    "    \n",
    "    return result"
   ]
  },
  {
   "cell_type": "code",
   "execution_count": 263,
   "id": "049b520d",
   "metadata": {},
   "outputs": [],
   "source": [
    "a = [1,2,0,1,2]\n",
    "def pos_actions(a):\n",
    "    print(f\"Lista inicial {a}\")\n",
    "    result = []\n",
    "    #Para a[0]\n",
    "    for values in range(3):\n",
    "        result.append((0,values))\n",
    "    \n",
    "    #Para los demas:\n",
    "    wait = ()\n",
    "    for i in range(1,len(a)-1):\n",
    "        wait.append(a[i-1])\n",
    "            \n",
    "            \n",
    "            \n",
    "            \n",
    "    #para a[-1]:\n",
    "    cols = [0,1,2]\n",
    "    for value in cols:\n",
    "        if value not in a[:-1]:\n",
    "            result.append((3,value))\n",
    "   \n",
    "    \n",
    "    return result"
   ]
  },
  {
   "cell_type": "code",
   "execution_count": 264,
   "id": "60c4917e-99a8-490c-a290-79f0679bea58",
   "metadata": {},
   "outputs": [
    {
     "name": "stdout",
     "output_type": "stream",
     "text": [
      "Lista inicial [1, 2, 0, 1, 2]\n"
     ]
    },
    {
     "data": {
      "text/plain": [
       "[(0, 0),\n",
       " (0, 1),\n",
       " (0, 2),\n",
       " (1, 2),\n",
       " (1, 0),\n",
       " (1, 1),\n",
       " (1, 2),\n",
       " (2, 2),\n",
       " (2, 0),\n",
       " (2, 1),\n",
       " (2, 2)]"
      ]
     },
     "execution_count": 264,
     "metadata": {},
     "output_type": "execute_result"
    }
   ],
   "source": [
    "pos_actions([1,2,0,1,2])"
   ]
  },
  {
   "cell_type": "code",
   "execution_count": 126,
   "id": "88da716b-f9ae-44d4-b55a-274f040bd898",
   "metadata": {},
   "outputs": [
    {
     "data": {
      "text/plain": [
       "False"
      ]
     },
     "execution_count": 126,
     "metadata": {},
     "output_type": "execute_result"
    }
   ],
   "source": [
    "c = [1,2,3]\n",
    "[1,2] in c"
   ]
  },
  {
   "cell_type": "code",
   "execution_count": 192,
   "id": "d56d36b2-8d66-4332-96eb-5fa65b85e036",
   "metadata": {},
   "outputs": [
    {
     "data": {
      "text/plain": [
       "[1, 2, 0, 1, 2]"
      ]
     },
     "execution_count": 192,
     "metadata": {},
     "output_type": "execute_result"
    }
   ],
   "source": [
    "a"
   ]
  },
  {
   "cell_type": "code",
   "execution_count": 219,
   "id": "3f56a090-3b2c-4f03-af0d-316dea1fac44",
   "metadata": {},
   "outputs": [
    {
     "data": {
      "text/plain": [
       "[2, 0, 1]"
      ]
     },
     "execution_count": 219,
     "metadata": {},
     "output_type": "execute_result"
    }
   ],
   "source": [
    "a[1:-1]"
   ]
  },
  {
   "cell_type": "code",
   "execution_count": 220,
   "id": "76f51036-c202-4f56-9e51-786a6f5fe670",
   "metadata": {},
   "outputs": [
    {
     "name": "stdout",
     "output_type": "stream",
     "text": [
      "(1, 1)\n",
      "(1, 2)\n",
      "(1, 0)\n",
      "(1, 1)\n",
      "(2, 1)\n",
      "(2, 2)\n",
      "(2, 0)\n",
      "(2, 1)\n"
     ]
    }
   ],
   "source": [
    "for i in range(1,len(a[1:-1])):\n",
    "     for j in a[:-1]:\n",
    "        print((i,j))"
   ]
  },
  {
   "cell_type": "code",
   "execution_count": 222,
   "id": "0df2a5d8-6736-4ac6-a0e9-8e31ada60993",
   "metadata": {},
   "outputs": [],
   "source": [
    "c = [2,0,0,1,1]"
   ]
  },
  {
   "cell_type": "code",
   "execution_count": 226,
   "id": "27117fe4-6ae3-4b39-baf3-e32aa487f593",
   "metadata": {},
   "outputs": [
    {
     "data": {
      "text/plain": [
       "2"
      ]
     },
     "execution_count": 226,
     "metadata": {},
     "output_type": "execute_result"
    }
   ],
   "source": [
    "c.index(0,2)"
   ]
  },
  {
   "cell_type": "code",
   "execution_count": 227,
   "id": "982b5c1f-692b-43c6-8b34-f9ebdcdafddd",
   "metadata": {},
   "outputs": [
    {
     "name": "stdout",
     "output_type": "stream",
     "text": [
      "(2, 0)\n",
      "(2, 1)\n",
      "(2, 2)\n",
      "(2, 3)\n",
      "(0, 0)\n",
      "(0, 1)\n",
      "(0, 2)\n",
      "(0, 3)\n",
      "(0, 0)\n",
      "(0, 1)\n",
      "(0, 2)\n",
      "(0, 3)\n",
      "(1, 0)\n",
      "(1, 1)\n",
      "(1, 2)\n",
      "(1, 3)\n",
      "(1, 0)\n",
      "(1, 1)\n",
      "(1, 2)\n",
      "(1, 3)\n"
     ]
    }
   ],
   "source": [
    "for items in c:\n",
    "    for x in range(len(c[:])):\n",
    "        print((items,x))\n",
    "    "
   ]
  },
  {
   "cell_type": "code",
   "execution_count": 231,
   "id": "7f261bee-f0e8-4629-a1c4-e805c5303919",
   "metadata": {},
   "outputs": [
    {
     "data": {
      "text/plain": [
       "[2, 0, 0, 1, 1]"
      ]
     },
     "execution_count": 231,
     "metadata": {},
     "output_type": "execute_result"
    }
   ],
   "source": [
    "c"
   ]
  },
  {
   "cell_type": "code",
   "execution_count": 252,
   "id": "6ab8442a-3759-4c62-9716-12e460d93b94",
   "metadata": {},
   "outputs": [
    {
     "name": "stdout",
     "output_type": "stream",
     "text": [
      "si hay\n",
      "No hay solucion\n",
      "si hay\n"
     ]
    }
   ],
   "source": [
    "for i in range(1,len(c[:-1])):\n",
    "    if c.index(c[i]) < i:\n",
    "        print(\"No hay solucion\")\n",
    "    else:\n",
    "        print(\"si hay\")"
   ]
  },
  {
   "cell_type": "code",
   "execution_count": 250,
   "id": "7f2e7adb-2096-478d-ba89-bce57e309efb",
   "metadata": {},
   "outputs": [
    {
     "data": {
      "text/plain": [
       "[2, 0, 0, 1, 1]"
      ]
     },
     "execution_count": 250,
     "metadata": {},
     "output_type": "execute_result"
    }
   ],
   "source": [
    "c"
   ]
  },
  {
   "cell_type": "code",
   "execution_count": 253,
   "id": "ab573942-2336-4537-afcf-fe4b0b53a6bd",
   "metadata": {},
   "outputs": [
    {
     "data": {
      "text/plain": [
       "range(1, 4)"
      ]
     },
     "execution_count": 253,
     "metadata": {},
     "output_type": "execute_result"
    }
   ],
   "source": [
    "range(1,len(c[:-1]))"
   ]
  },
  {
   "cell_type": "code",
   "execution_count": 251,
   "id": "813f60be-dc4a-4658-a4b2-0e5141bc3fae",
   "metadata": {},
   "outputs": [
    {
     "name": "stdout",
     "output_type": "stream",
     "text": [
      "(1, 2)\n",
      "(1, 0)\n",
      "(1, 0)\n",
      "(1, 1)\n",
      "(2, 2)\n",
      "(2, 0)\n",
      "(2, 0)\n",
      "(2, 1)\n",
      "(3, 2)\n",
      "(3, 0)\n",
      "(3, 0)\n",
      "(3, 1)\n"
     ]
    }
   ],
   "source": [
    "for i in range(1,len(c)-1):\n",
    "    if c.index(c[j]) < i:\n",
    "        for j in c[:-1]:\n",
    "            if c.index(c[j]) < i:\n",
    "                pass\n",
    "            print((i,j))\n",
    "            "
   ]
  },
  {
   "cell_type": "code",
   "execution_count": null,
   "id": "5536aa02-0850-4254-b7a2-4fdcba1620e5",
   "metadata": {},
   "outputs": [],
   "source": []
  }
 ],
 "metadata": {
  "kernelspec": {
   "display_name": "Python 3 (ipykernel)",
   "language": "python",
   "name": "python3"
  },
  "language_info": {
   "codemirror_mode": {
    "name": "ipython",
    "version": 3
   },
   "file_extension": ".py",
   "mimetype": "text/x-python",
   "name": "python",
   "nbconvert_exporter": "python",
   "pygments_lexer": "ipython3",
   "version": "3.12.1"
  }
 },
 "nbformat": 4,
 "nbformat_minor": 5
}
