{
 "cells": [
  {
   "cell_type": "markdown",
   "id": "1b89a959-3ffd-46b8-a337-03df80196dae",
   "metadata": {},
   "source": [
    "# Algoritmo de $K$-medias"
   ]
  },
  {
   "cell_type": "markdown",
   "id": "2f3ab99c-543e-4e4f-b15d-396062e63713",
   "metadata": {},
   "source": [
    "## Un ejemplito"
   ]
  },
  {
   "cell_type": "markdown",
   "id": "26242dd8-640c-45e3-af12-8242548f225d",
   "metadata": {},
   "source": [
    "Consideramos un conjunto de datos el cuál queremos categorizar en dos grupos:"
   ]
  },
  {
   "cell_type": "code",
   "execution_count": null,
   "id": "c2520112-7319-47a4-beac-ec9829579f10",
   "metadata": {},
   "outputs": [],
   "source": [
    "D = ((1, 3),\n",
    "     (2, 3),\n",
    "     (5, 3),\n",
    "     (7, 3))"
   ]
  },
  {
   "cell_type": "markdown",
   "id": "87f37dfc-dd87-4654-81ff-e8aebb93fdfa",
   "metadata": {},
   "source": [
    "Consideramos dos grupos iniciales representados por sus centros:"
   ]
  },
  {
   "cell_type": "code",
   "execution_count": null,
   "id": "309d0c2a-bbb4-4944-861a-58053273e25d",
   "metadata": {},
   "outputs": [],
   "source": [
    "c1 = [4, 5]\n",
    "c2 = [6, 1]"
   ]
  },
  {
   "cell_type": "markdown",
   "id": "30bc6bc5-3f8b-4915-a5c1-cfe0a80761d3",
   "metadata": {},
   "source": [
    "Veamos cómo graficar esta información. Utilizamos el módulo `pyplot` de la biblioteca `matplotlib`."
   ]
  },
  {
   "cell_type": "code",
   "execution_count": null,
   "id": "083adbf0-2c93-4a6e-884c-67b5c93ae66d",
   "metadata": {},
   "outputs": [],
   "source": [
    "import matplotlib.pyplot as plt\n",
    "\n",
    "# creamos una figura (es como un lienzo vacío)\n",
    "fig = plt.figure()\n",
    "\n",
    "# creamos ejes sobre la figura (nos relaciona datos con coordenadas gráficas)\n",
    "ax = fig.add_subplot()\n",
    "\n",
    "# creamos una gráfica de puntos, llamada scatter plot en inglés\n",
    "# le debemos pasar dos secuencias de coordenadas y le pedimos que dibuje\n",
    "# los puntos con color negro\n",
    "ax.scatter([x for x, _ in D], [y for _, y in D], c = \"black\")\n",
    "\n",
    "# creamos otra gráfica de puntos para los centros, los cuáles pintamos\n",
    "# con color azúl\n",
    "ax.scatter([c1[0], c2[0]], [c1[1], c2[1]], c = \"blue\")\n",
    "\n",
    "fig;"
   ]
  },
  {
   "cell_type": "markdown",
   "id": "3a0d2f94-4260-4779-b4b0-0a79ecf7eb8f",
   "metadata": {},
   "source": [
    "El primer paso es calcular la distancia de cada ejemplo de los datos a cada centro, el grupo asignado a un ejemplo corresponde al del centro cuya distancia es menor."
   ]
  },
  {
   "cell_type": "code",
   "execution_count": null,
   "id": "58af6652-9b7d-4e0c-95f6-d20dae922c8f",
   "metadata": {},
   "outputs": [],
   "source": [
    "def distance_squared(p1, p2):\n",
    "    return sum((x1 - x2)**2 for x1, x2 in zip(p1, p2))"
   ]
  },
  {
   "cell_type": "markdown",
   "id": "2d402ab1-e5b8-4a52-985b-99bc685dfb0c",
   "metadata": {},
   "source": [
    "Veamos cómo nos quedan las asignaciones:"
   ]
  },
  {
   "cell_type": "code",
   "execution_count": null,
   "id": "19c6a864-f3a1-487e-b0c5-fb07379cbe2c",
   "metadata": {},
   "outputs": [],
   "source": [
    "ass = []\n",
    "for p in D:\n",
    "    d1 = distance_squared(p, c1)\n",
    "    d2 = distance_squared(p, c2)\n",
    "    print(f\"El punto {p} está a distancia {d1} de c1 y a distancia {d2} de c2\")\n",
    "    g = min([(d1, 1), (d2, 2)])[1]\n",
    "    print(f\"El grupo asignado a {p} es {g}\")\n",
    "    print()\n",
    "    ass.append(g)"
   ]
  },
  {
   "cell_type": "markdown",
   "id": "898d5fd3-070c-4535-80a1-309e1bd6645b",
   "metadata": {},
   "source": [
    "Ahora vamos a mejorar los centros a partir de las asignaciones, el nuevo centro corresponde al punto medio entre los puntos asignados a su grupo correspondiente."
   ]
  },
  {
   "cell_type": "code",
   "execution_count": null,
   "id": "48565e22-a7a7-42aa-9973-db33cb185e71",
   "metadata": {},
   "outputs": [],
   "source": [
    "n1 = ass.count(1)\n",
    "c1 = [\n",
    "    sum(x for i, (x, _) in enumerate(D) if ass[i] == 1) / n1,\n",
    "    sum(x for i, (_, x) in enumerate(D) if ass[i] == 1) / n1,\n",
    "]\n",
    "\n",
    "n2 = ass.count(2)\n",
    "c2 = [\n",
    "    sum(x for i, (x, _) in enumerate(D) if ass[i] == 2) / n2,\n",
    "    sum(x for i, (_, x) in enumerate(D) if ass[i] == 2) / n2,\n",
    "]\n",
    "\n",
    "c1, c2"
   ]
  },
  {
   "cell_type": "markdown",
   "id": "c6a83e41-898c-4397-861a-268e1eadfb57",
   "metadata": {},
   "source": [
    "Ahora volvemos a repetir el proceso, ¿qué asignaciones obtenemos al considerar estos centros?"
   ]
  },
  {
   "cell_type": "code",
   "execution_count": null,
   "id": "611bbdfe-7998-4b2d-aedf-72c8d3293a3a",
   "metadata": {},
   "outputs": [],
   "source": [
    "ass = []\n",
    "for p in D:\n",
    "    d1 = distance_squared(p, c1)\n",
    "    d2 = distance_squared(p, c2)\n",
    "    print(f\"El punto {p} está a distancia {d1} de c1 y a distancia {d2} de c2\")\n",
    "    g = min([(d1, 1), (d2, 2)])[1]\n",
    "    print(f\"El grupo asignado a {p} es {g}\")\n",
    "    print()\n",
    "    ass.append(g)"
   ]
  },
  {
   "cell_type": "markdown",
   "id": "38da6629-16d7-49f8-9e0b-7021aec6015f",
   "metadata": {},
   "source": [
    "Y de nuevo, volvemos a mejorar los centros..."
   ]
  },
  {
   "cell_type": "code",
   "execution_count": null,
   "id": "ea2f83aa-3ee7-430f-afa0-535001e6b4fa",
   "metadata": {},
   "outputs": [],
   "source": [
    "n1 = ass.count(1)\n",
    "c1 = [\n",
    "    sum(x for i, (x, _) in enumerate(D) if ass[i] == 1) / n1,\n",
    "    sum(x for i, (_, x) in enumerate(D) if ass[i] == 1) / n1,\n",
    "]\n",
    "\n",
    "n2 = ass.count(2)\n",
    "c2 = [\n",
    "    sum(x for i, (x, _) in enumerate(D) if ass[i] == 2) / n2,\n",
    "    sum(x for i, (_, x) in enumerate(D) if ass[i] == 2) / n2,\n",
    "]\n",
    "\n",
    "c1, c2"
   ]
  },
  {
   "cell_type": "markdown",
   "id": "86cf33e9-0b27-4b6e-b685-bd22d57d3850",
   "metadata": {},
   "source": [
    "Va de nuez, ¿qué asignaciones obtenemos con estos centros mejorados?"
   ]
  },
  {
   "cell_type": "code",
   "execution_count": null,
   "id": "86a8657c-2c69-4e17-9f37-961a0c835621",
   "metadata": {},
   "outputs": [],
   "source": [
    "ass = []\n",
    "for p in D:\n",
    "    d1 = distance_squared(p, c1)\n",
    "    d2 = distance_squared(p, c2)\n",
    "    print(f\"El punto {p} está a distancia {d1} de c1 y a distancia {d2} de c2\")\n",
    "    g = min([(d1, 1), (d2, 2)])[1]\n",
    "    print(f\"El grupo asignado a {p} es {g}\")\n",
    "    print()\n",
    "    ass.append(g)"
   ]
  },
  {
   "cell_type": "markdown",
   "id": "cf435989-d601-4e4d-bcdd-d99692206328",
   "metadata": {},
   "source": [
    "¡Oh caracoles! la asignación quedó igualita, ejemplos 1 y 2 asignado a grupo 1, ejemplos 3 y 4 asignados a grupo 2. El proceso convergió y el método de $K$-medias ha concluido. Nuestro conjunto de datos se encuentra ahora agrupado."
   ]
  },
  {
   "cell_type": "markdown",
   "id": "08c06b35-4a9c-4f60-83f9-69d8f5909c96",
   "metadata": {},
   "source": [
    "## Sobre la distancia cuadrada y la eficiencia del método\n",
    "\n",
    "Sean $\\phi(x_i)$ las características de el $i$-ésimo ejemplo de nuestro conjunto de datos y sea $c$ algún centro. Consideremos que ambos vectores consisten de $n$ componentes. La distancia cuadrada entre estos dos puntos se calcula de la siguiente manera denotando como $\\phi(x_i)_k$ y $c_k$ a la $k$-ésima componente de $\\phi(x_i)$ y $c$ respectivamente:\n",
    "\n",
    "$$\\begin{aligned}\n",
    "\\Vert \\phi(x_i) - c_j \\Vert^2 &= \\left(\\sqrt{\\sum_{k=1}^n (\\phi(x_i)_k - c_k)^2}\\right)^2 \\\\\n",
    "&= \\sum_{k=1}^n (\\phi(x_i)_k - c_k)^2\n",
    "\\end{aligned}$$\n",
    "\n",
    "Utilizamos esta igualdad para realizar los cálculos de arriba. Sin embargo, este cálculo puede ser muy costoso de realizar en cada época si tenemos muchos ejemplos, especialmente si utilizamos representaciones dispersas de los vectores.\n",
    "\n",
    "Cuando la máquina que utilizamos cuenta con suficiente memoria, podemos sacrificar un poco de espacio para hacer más eficiente el cálculo de las distancias cuadradas de la siguiente manera. Observemos que:\n",
    "\n",
    "$$\\begin{aligned}\n",
    "\\sum_{k=1}^n (\\phi(x_i)_k - c_k)^2 &= \\sum_{k=1}^n (\\phi(x_i)_k^2 -2\\phi(x_i)_kc_k + c_k^2) \\\\\n",
    "&= \\sum_{k=1}^n \\phi(x_i)_k^2 -2\\sum_{k=1}^n\\phi(x_i)_kc_k + \\sum_{k=1}^n c_k^2 \\\\\n",
    "&= \\phi(x_i)\\cdot\\phi(x_i) + c\\cdot c - 2\\phi(x_i)\\cdot c\n",
    "\\end{aligned}$$\n",
    "\n",
    "Nota que el término $\\phi(x_i)\\cdot\\phi(x_i)$ es independiente de la época, podemos precalcular estos productos puntos al inicio de todo el método.\n",
    "\n",
    "Nota que el término $c\\cdot c$ depende de la época, pero no del ejemplo con el cuál calculamos la distancia, podemos precalcular estos productos puntos al inicio de cada época.\n",
    "\n",
    "Nota que el término $- 2\\phi(x_i)\\cdot c$ depende tanto de la época, como del ejemplo y centro para el cuál queremos calcular la distancia. No podemos deshacernos de esta parte del cálculo. Sin embargo, piensa en qué ocurre si los vectores son dispersos: En la ecuación original debíamos contemplar la **unión** de las dimensiones del ejemplo y del centro en cuestión, pero ahora este término solo requiere contemplar la **intersección** de las dimensiones del ejemplo y del centro en cuestión."
   ]
  },
  {
   "cell_type": "markdown",
   "id": "62aa0f78-9064-49af-ac1a-5c8415e2f66c",
   "metadata": {},
   "source": [
    "# Componentes de los algoritmos de aprendizaje\n",
    "\n",
    "- **Conjuntos de datos:** Un contenedor con todos los datos de nuestro problema.\n",
    "- **Modelos:** Objetos que nos representen posibles predictores\n",
    "- **Pérdida:** Objetos funcionales que determinen que tan mal predice los datos un modelo.\n",
    "- **Algoritmos de optimización:** Encuentra el modelo que minimiza una pérdida."
   ]
  },
  {
   "cell_type": "markdown",
   "id": "76007cfe-2aeb-45fe-82fc-9d3229b7bca7",
   "metadata": {},
   "source": [
    "## Conjuntos de datos\n",
    "\n",
    "- `inputs` como valor obligatorio, serían nuestras $x$s\n",
    "- `outputs` como valor opcional, regresión y clasificación la necesitan pero $K$-medias no, serían las $y$s\n",
    "- `extract` una extractor de características, nuestra $\\phi$"
   ]
  },
  {
   "cell_type": "code",
   "execution_count": null,
   "id": "adef4aa8-402b-4b17-a118-c7e3a5e4a6a3",
   "metadata": {},
   "outputs": [],
   "source": [
    "def identity(x):\n",
    "    return x\n",
    "\n",
    "class Dataset:\n",
    "    def __init__(self, inputs, outputs = None, extract = identity):\n",
    "        self.inputs = list(inputs)\n",
    "        self.outputs = None if outputs is None else list(outputs)\n",
    "        self.extract = extract\n",
    "        self.features = [extract(input) for input in self.inputs]"
   ]
  },
  {
   "cell_type": "markdown",
   "id": "076cc4b9-5405-4588-8223-ab4e2d496e99",
   "metadata": {},
   "source": [
    "### El que usamos en regresión"
   ]
  },
  {
   "cell_type": "code",
   "execution_count": null,
   "id": "40999278-af9d-4e8b-a204-71dbcde52178",
   "metadata": {},
   "outputs": [],
   "source": [
    "    # (1, 1),\n",
    "    # (2, 3),\n",
    "    # (4, 3),\n",
    "ds1 = Dataset(\n",
    "    inputs = [1, 2, 4],\n",
    "    outputs = [1, 3, 3],\n",
    "    extract = lambda x: [x],\n",
    ")"
   ]
  },
  {
   "cell_type": "markdown",
   "id": "9d1c745d-4874-4f84-b985-3d01fe0b0352",
   "metadata": {},
   "source": [
    "### El que usamos en clasificación"
   ]
  },
  {
   "cell_type": "code",
   "execution_count": null,
   "id": "3aca631b-6149-4e05-ae89-c0538df030f4",
   "metadata": {},
   "outputs": [],
   "source": [
    "    # (( 0,  2), +1),\n",
    "    # ((-2,  0), +1),\n",
    "    # (( 1, -1), -1),\n",
    "    # ((-1, 1),  -1),\n",
    "ds2 = Dataset(\n",
    "    inputs = [[0, 2], [-2, 0], [1, -1], [-1, 1]],\n",
    "    outputs = [+1, +1, -1, -1],\n",
    "    extract = lambda x: {\"altura\": x[0], \"peso\": x[1]}\n",
    ")"
   ]
  },
  {
   "cell_type": "markdown",
   "id": "fe9581c8-f16b-45ae-ae65-6c5e6ac3949a",
   "metadata": {},
   "source": [
    "### El que usamos en descenso de gradiente estocástico"
   ]
  },
  {
   "cell_type": "code",
   "execution_count": null,
   "id": "38820737-4ebe-4af4-8e02-4c777ade686b",
   "metadata": {},
   "outputs": [],
   "source": [
    "import numpy as np"
   ]
  },
  {
   "cell_type": "code",
   "execution_count": null,
   "id": "eb802d38-32d9-40d1-9111-67bbda4fa40f",
   "metadata": {},
   "outputs": [],
   "source": [
    "trueW = np.array([1, 2, 3, 4, 5])"
   ]
  },
  {
   "cell_type": "code",
   "execution_count": null,
   "id": "93d2b9c7-e3ed-4ce7-a45e-8304166db428",
   "metadata": {},
   "outputs": [],
   "source": [
    "def random_feature_maker(n):\n",
    "    def random_feature():\n",
    "        return np.random.randn(n)\n",
    "    return random_feature\n",
    "\n",
    "def random_output_maker(real_weights):\n",
    "    def random_output(x):\n",
    "        return real_weights.dot(x) + np.random.randn()\n",
    "    return random_output\n",
    "\n",
    "class DummyDataset(Dataset):\n",
    "    def __init__(self, random_feature, random_output, examples = 10**6):\n",
    "        inputs = [random_feature() for _ in range(examples)]\n",
    "        outputs = [random_output(x) for x in inputs]\n",
    "        super().__init__(inputs, outputs)"
   ]
  },
  {
   "cell_type": "code",
   "execution_count": null,
   "id": "78f13c39-2771-4cb8-9c9f-4cd5afcf5779",
   "metadata": {},
   "outputs": [],
   "source": [
    "ds3 = DummyDataset(\n",
    "    examples = 10,\n",
    "    random_feature = random_feature_maker(len(trueW)),\n",
    "    random_output = random_output_maker(trueW),\n",
    ")"
   ]
  },
  {
   "cell_type": "markdown",
   "id": "c5b8da83-e92f-4e18-8978-68576b5fe327",
   "metadata": {},
   "source": [
    "### El que usamos en clasificación de dígitos"
   ]
  },
  {
   "cell_type": "code",
   "execution_count": null,
   "id": "c202f9de-aab9-44bc-834f-f44d4ff823d0",
   "metadata": {},
   "outputs": [],
   "source": [
    "import requests\n",
    "import gzip\n",
    "import os\n",
    "import hashlib"
   ]
  },
  {
   "cell_type": "code",
   "execution_count": null,
   "id": "c5d82f23-9032-474e-9aea-101faa514b67",
   "metadata": {},
   "outputs": [],
   "source": [
    "def fetch(url):\n",
    "    hash = hashlib.md5(url.encode(\"utf-8\")).hexdigest()\n",
    "    path = os.path.join(\".\", hash)\n",
    "    if os.path.isfile(path):\n",
    "        with open(path, \"rb\") as f:\n",
    "            data = f.read()\n",
    "    else:\n",
    "        with open(path, \"wb\") as f:\n",
    "            data = requests.get(url).content\n",
    "            f.write(data)\n",
    "    return np.frombuffer(\n",
    "        gzip.decompress(data),\n",
    "        dtype=np.uint8,\n",
    "    ).copy()"
   ]
  },
  {
   "cell_type": "code",
   "execution_count": null,
   "id": "cb73eef3-d3cf-40a4-98e5-83279e55d5c2",
   "metadata": {},
   "outputs": [],
   "source": [
    "def fetch_from_url(images_url, labels_url):\n",
    "    def load_data():\n",
    "        image_data = fetch(images_url)\n",
    "        label_data = fetch(labels_url)\n",
    "        return image_data, label_data\n",
    "    return load_data\n",
    "\n",
    "class MNISTDataset(Dataset):\n",
    "    def __init__(self, load_data):\n",
    "        image_data, label_data = load_data()\n",
    "        \n",
    "        # Validate image_data\n",
    "        [image_magic] = image_data[0:4][::-1].copy().view(np.uint32)\n",
    "        assert image_magic == 2051\n",
    "        [image_total] = image_data[4:8][::-1].copy().view(np.uint32)\n",
    "        [image_rows, image_cols] = image_data[8:16][::-1].copy().view(np.uint32)\n",
    "        assert len(image_data[16:]) == image_total * image_rows * image_cols\n",
    "        images = image_data[16:].reshape((image_total, image_rows, image_cols))\n",
    "\n",
    "        # Validate label_data\n",
    "        [label_magic] = label_data[0:4][::-1].copy().view(np.uint32)\n",
    "        assert label_magic == 2049\n",
    "        [label_total] = label_data[4:8][::-1].copy().view(np.uint32)\n",
    "        assert label_total == image_total\n",
    "        assert len(label_data[8:]) == label_total\n",
    "        labels = label_data[8:]\n",
    "\n",
    "        super().__init__(\n",
    "            inputs = list(images),\n",
    "            outputs = list(labels),\n",
    "            extract = lambda image: image.reshape(image_rows * image_cols),\n",
    "        )"
   ]
  },
  {
   "cell_type": "code",
   "execution_count": null,
   "id": "91de42ab-21d7-484b-84af-c36932937e92",
   "metadata": {},
   "outputs": [],
   "source": [
    "ds4 = MNISTDataset(\n",
    "    load_data=fetch_from_url(\n",
    "        \"http://yann.lecun.com/exdb/mnist/train-images-idx3-ubyte.gz\",\n",
    "        \"http://yann.lecun.com/exdb/mnist/train-labels-idx1-ubyte.gz\",\n",
    "    ),\n",
    ")"
   ]
  },
  {
   "cell_type": "code",
   "execution_count": null,
   "id": "401624e5-72fe-4c91-ba10-412d6377ebdc",
   "metadata": {},
   "outputs": [],
   "source": [
    "class MNISTDatasetBinary(MNISTDataset):\n",
    "    def __init__(self, load_data, digit):\n",
    "        super().__init__(load_data)\n",
    "        self.outputs = [+1 if output == digit else -1 for output in self.outputs]"
   ]
  },
  {
   "cell_type": "code",
   "execution_count": null,
   "id": "b1a82a42-5029-4546-8883-5687170b802e",
   "metadata": {},
   "outputs": [],
   "source": [
    "ds5 = MNISTDatasetBinary(\n",
    "    load_data=fetch_from_url(\n",
    "        \"http://yann.lecun.com/exdb/mnist/train-images-idx3-ubyte.gz\",\n",
    "        \"http://yann.lecun.com/exdb/mnist/train-labels-idx1-ubyte.gz\",\n",
    "    ),\n",
    "    digit = 0,\n",
    ")"
   ]
  },
  {
   "cell_type": "markdown",
   "id": "fa1fcdae-a4ad-4fd1-ba61-91b33caa5100",
   "metadata": {},
   "source": [
    "### El que usamos en optimización equitativa de grupos"
   ]
  },
  {
   "cell_type": "code",
   "execution_count": null,
   "id": "b8770e17-280e-43d4-aae1-372dee5ed7ed",
   "metadata": {},
   "outputs": [],
   "source": [
    "class GroupsDataset(Dataset):\n",
    "    def __init__(self, inputs, outputs, groups, extract = identity):\n",
    "        assert len(inputs) == len(outputs) == len(groups)\n",
    "        self.groups = groups\n",
    "        super().__init__(inputs, outputs, extract)"
   ]
  },
  {
   "cell_type": "code",
   "execution_count": null,
   "id": "d8b78178-acdb-4847-a919-0e7d55ede352",
   "metadata": {},
   "outputs": [],
   "source": [
    "    # (1, 4, 'A'),\n",
    "    # (2, 8, 'A'),\n",
    "    # (5, 5, 'B'),\n",
    "    # (6, 6, 'B'),\n",
    "    # (7, 7, 'B'),\n",
    "    # (8, 8, 'B'),\n",
    "ds6 = GroupsDataset(\n",
    "    inputs = [1, 2, 5, 6, 7, 8],\n",
    "    outputs = [4, 8, 5, 6, 7, 8],\n",
    "    groups = ['A', 'A', 'B', 'B', 'B', 'B'],\n",
    "    extract = lambda x: [x],\n",
    ")"
   ]
  },
  {
   "cell_type": "markdown",
   "id": "b85c216b-180b-431a-b610-bae2bde21c3f",
   "metadata": {},
   "source": [
    "### Extractores de características no lineales"
   ]
  },
  {
   "cell_type": "code",
   "execution_count": null,
   "id": "26e60627-8aa7-4f0f-9493-12f915994e49",
   "metadata": {},
   "outputs": [],
   "source": [
    "ds7 = Dataset(\n",
    "    inputs = np.array([\n",
    "        1.87270059, 4.75357153, 3.65996971, 2.99329242, 0.7800932 ,\n",
    "        0.7799726 , 0.29041806, 4.33088073, 3.00557506, 3.54036289,\n",
    "        0.10292247, 4.84954926, 4.1622132 , 1.06169555, 0.90912484,\n",
    "        0.91702255, 1.52121121, 2.62378216, 2.15972509, 1.4561457,\n",
    "    ]),\n",
    "    outputs = np.array([\n",
    "        3.28315199, 1.87377693, 2.7730387 , 3.06769436, 2.61445411,\n",
    "        2.94347711, 1.97322331, 2.59380959, 3.29129334, 2.57997942,\n",
    "        2.20834872, 1.81644778, 2.26246105, 3.2851416 , 3.20945528,\n",
    "        3.05723383, 2.86300827, 2.84460771, 3.41107562, 2.97222613,\n",
    "    ]),\n",
    "    extract = lambda x: np.array([1, x, x ** 2]),\n",
    ")"
   ]
  },
  {
   "cell_type": "markdown",
   "id": "ec48aba8-03e1-4a33-a433-aa218abca0e7",
   "metadata": {},
   "source": [
    "### $K$-medias"
   ]
  },
  {
   "cell_type": "code",
   "execution_count": null,
   "id": "7d8f99af-c3f4-4783-a12b-4c09326c0d9d",
   "metadata": {},
   "outputs": [],
   "source": [
    "ds8 = Dataset(\n",
    "    inputs = ((1, 3), (2, 3),\n",
    "              (5, 3), (7, 3)),\n",
    "    extract = lambda x: list(x),\n",
    ")"
   ]
  },
  {
   "cell_type": "markdown",
   "id": "075f94aa-279e-440e-ae1a-ee1e7833611e",
   "metadata": {},
   "source": [
    "## Modelos"
   ]
  },
  {
   "cell_type": "code",
   "execution_count": null,
   "id": "08f37410-1f01-4683-b6c3-d4590e484e05",
   "metadata": {},
   "outputs": [],
   "source": [
    "from abc import ABC, abstractmethod"
   ]
  },
  {
   "cell_type": "code",
   "execution_count": null,
   "id": "f90299df-b658-4ddd-93dd-7b72335aac34",
   "metadata": {},
   "outputs": [],
   "source": [
    "class Model(ABC):\n",
    "    @abstractmethod\n",
    "    def predict(self, features):\n",
    "        ..."
   ]
  },
  {
   "cell_type": "markdown",
   "id": "768ef31f-5a5f-47a8-90d8-3b78c9f84fb9",
   "metadata": {},
   "source": [
    "### Regresión y clasificación lineal"
   ]
  },
  {
   "cell_type": "code",
   "execution_count": null,
   "id": "077ce321-5d37-4bb6-a089-3af2b552a023",
   "metadata": {},
   "outputs": [],
   "source": [
    "class LinearModel(Model):\n",
    "    def __init__(self, weights):\n",
    "        self.weights = weights\n",
    "\n",
    "    @abstractmethod\n",
    "    def combine(self, weights, features):\n",
    "        ...\n",
    "\n",
    "    def activate(self, score):\n",
    "        return score\n",
    "\n",
    "    def predict(self, features):\n",
    "        return self.activate(self.combine(self.weights, features))"
   ]
  },
  {
   "cell_type": "code",
   "execution_count": null,
   "id": "cce9ab9b-9eb5-427b-8663-542171b1b6a7",
   "metadata": {},
   "outputs": [],
   "source": [
    "class LinearPredictor(LinearModel):\n",
    "    def combine(self, weights, features):\n",
    "        return sum(w * x for w, x in zip(weights, features))"
   ]
  },
  {
   "cell_type": "code",
   "execution_count": null,
   "id": "9d9c043d-9a5d-413c-9536-59e4d8734db9",
   "metadata": {},
   "outputs": [],
   "source": [
    "class LinearPredictorSparse(LinearModel):\n",
    "    def combine(self, weights, features):\n",
    "        if len(weights) < len(features):\n",
    "            features, weights = weights, features\n",
    "        return sum(weights.get(i, 0) * x for i, x in features.items())"
   ]
  },
  {
   "cell_type": "code",
   "execution_count": null,
   "id": "ad0c66c2-da8b-4dd3-892b-2270c5ef3514",
   "metadata": {},
   "outputs": [],
   "source": [
    "class LinearClassifier(LinearPredictor):\n",
    "    def activate(self, score):\n",
    "        if score >= 0:\n",
    "            return +1\n",
    "        return -1"
   ]
  },
  {
   "cell_type": "code",
   "execution_count": null,
   "id": "3614c701-33e1-48a8-826e-3344a5b0d613",
   "metadata": {},
   "outputs": [],
   "source": [
    "class LinearClassifierSparse(LinearPredictorSparse, LinearClassifier):\n",
    "    pass"
   ]
  },
  {
   "cell_type": "markdown",
   "id": "a27f8493-9a76-4675-a834-5f1fded6d092",
   "metadata": {},
   "source": [
    "### Clusters"
   ]
  },
  {
   "cell_type": "code",
   "execution_count": null,
   "id": "119744d8-910c-45fd-8322-30d3904a699e",
   "metadata": {},
   "outputs": [],
   "source": [
    "class Clusters(Model):\n",
    "    def __init__(self, centers, distance):\n",
    "        self.centers = centers\n",
    "        self.distance = distance\n",
    "\n",
    "    def predict(self, features):\n",
    "        return min(\n",
    "            (self.distance(features, c), i) \n",
    "            for i, c\n",
    "            in enumerate(self.centers)\n",
    "        )"
   ]
  }
 ],
 "metadata": {
  "kernelspec": {
   "display_name": "Python 3 (ipykernel)",
   "language": "python",
   "name": "python3"
  },
  "language_info": {
   "codemirror_mode": {
    "name": "ipython",
    "version": 3
   },
   "file_extension": ".py",
   "mimetype": "text/x-python",
   "name": "python",
   "nbconvert_exporter": "python",
   "pygments_lexer": "ipython3",
   "version": "3.11.7"
  }
 },
 "nbformat": 4,
 "nbformat_minor": 5
}
